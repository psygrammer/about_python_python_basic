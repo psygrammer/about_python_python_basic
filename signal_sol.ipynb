{
 "cells": [
  {
   "cell_type": "markdown",
   "metadata": {
    "collapsed": true
   },
   "source": [
    "# 문제 1) 1부터 100까지 중에 짝수만 출력하기"
   ]
  },
  {
   "cell_type": "code",
   "execution_count": 28,
   "metadata": {
    "collapsed": true
   },
   "outputs": [],
   "source": [
    "nums = range(1, 101) "
   ]
  },
  {
   "cell_type": "code",
   "execution_count": 30,
   "metadata": {},
   "outputs": [
    {
     "name": "stdout",
     "output_type": "stream",
     "text": [
      "짝수: 2\n",
      "짝수: 4\n",
      "짝수: 6\n",
      "짝수: 8\n",
      "짝수: 10\n",
      "짝수: 12\n",
      "짝수: 14\n",
      "짝수: 16\n",
      "짝수: 18\n",
      "짝수: 20\n",
      "짝수: 22\n",
      "짝수: 24\n",
      "짝수: 26\n",
      "짝수: 28\n",
      "짝수: 30\n",
      "짝수: 32\n",
      "짝수: 34\n",
      "짝수: 36\n",
      "짝수: 38\n",
      "짝수: 40\n",
      "짝수: 42\n",
      "짝수: 44\n",
      "짝수: 46\n",
      "짝수: 48\n",
      "짝수: 50\n",
      "짝수: 52\n",
      "짝수: 54\n",
      "짝수: 56\n",
      "짝수: 58\n",
      "짝수: 60\n",
      "짝수: 62\n",
      "짝수: 64\n",
      "짝수: 66\n",
      "짝수: 68\n",
      "짝수: 70\n",
      "짝수: 72\n",
      "짝수: 74\n",
      "짝수: 76\n",
      "짝수: 78\n",
      "짝수: 80\n",
      "짝수: 82\n",
      "짝수: 84\n",
      "짝수: 86\n",
      "짝수: 88\n",
      "짝수: 90\n",
      "짝수: 92\n",
      "짝수: 94\n",
      "짝수: 96\n",
      "짝수: 98\n",
      "짝수: 100\n"
     ]
    }
   ],
   "source": [
    "for a in nums :\n",
    "    #print(a)\n",
    "    if int(a % 2) == 0 :\n",
    "        print(\"짝수:\",a)"
   ]
  },
  {
   "cell_type": "markdown",
   "metadata": {
    "collapsed": true
   },
   "source": [
    "# 문제 2) 사용자 입력을 무한히 받다가 q를 입력하면 종료하기"
   ]
  },
  {
   "cell_type": "code",
   "execution_count": 46,
   "metadata": {},
   "outputs": [
    {
     "name": "stdout",
     "output_type": "stream",
     "text": [
      "아무말이나(종료를 원하면 q): 아무말~\n",
      "아무말~\n",
      "아무말이나(종료를 원하면 q): q\n",
      "q\n"
     ]
    }
   ],
   "source": [
    "# 무한히 입력받는다\n",
    "done = False\n",
    "while not done :\n",
    "    keyval = input(\"아무말이나(종료를 원하면 q): \")\n",
    "    print(keyval)\n",
    "    if keyval == 'q' :\n",
    "        done = True"
   ]
  },
  {
   "cell_type": "markdown",
   "metadata": {},
   "source": [
    "# 보너스 ㅡ 문제 3) 트와이스의 '시그널' 가사를 웹에서 가져와서, '시그널'이란 단어가 몇번 나오는지 알아내기"
   ]
  },
  {
   "cell_type": "code",
   "execution_count": 73,
   "metadata": {
    "collapsed": true
   },
   "outputs": [],
   "source": [
    "raw_src = '''Trying to let you know\n",
    "Sign을 보내 signal 보내\n",
    "I must let you know\n",
    "Sign을 보내 signal 보내\n",
    "Sign을 보내 signal 보내\n",
    "Sign을 보내 signal 보내\n",
    "Sign을 보내 signal 보내\n",
    "I must let you know\n",
    "Sign을 보내 signal 보내\n",
    "근데 전혀 안 통해\n",
    "눈빛을 보내 눈치를 주네\n",
    "근데 못 알아듣네\n",
    "답답해서 미치겠다 정말\n",
    "왜 그런지 모르겠다 정말\n",
    "다시 한 번 힘을 내서\n",
    "Sign을 보내 signal 보내\n",
    "눈짓도 손짓도 어떤 표정도\n",
    "소용이 없네 하나도 안 통해\n",
    "눈치도 코치도 전혀 없나 봐\n",
    "더 이상 어떻게 내 맘을 표현해\n",
    "언제부턴가 난 네가 좋아\n",
    "지기 시작했어 바보야\n",
    "왜 이렇게도 내 맘을 몰라\n",
    "언제까지 이렇게 둔하게\n",
    "나를 친구로만 대할래\n",
    "내가 원하는 건 그게 아닌데\n",
    "Signal 보내 signal 보내\n",
    "찌릿 찌릿 찌릿 찌릿\n",
    "난 너를 원해 난 너를 원해\n",
    "왜 반응이 없니\n",
    "만날 때 마다 마음을 담아\n",
    "찌릿 찌릿 찌릿 찌릿\n",
    "기다리잖아 다 보이잖아\n",
    "왜 알지 못하니\n",
    "Trying to let you know\n",
    "Sign을 보내 signal 보내\n",
    "I must let you know\n",
    "Sign을 보내 signal 보내\n",
    "널 보며 웃으면 알아채야지\n",
    "오늘만 몇 번째 널 보며 웃는데\n",
    "자꾸 말을 걸면 좀 느껴야지\n",
    "계속 네 곁에 머물러있는데\n",
    "언제부턴가 난 네가 좋아\n",
    "지기 시작했어 바보야\n",
    "왜 이렇게도 내 맘을 몰라\n",
    "언제까지 이렇게 둔하게\n",
    "나를 친구로만 대할래\n",
    "내가 원하는 건 그게 아닌데\n",
    "Signal 보내 signal 보내\n",
    "찌릿 찌릿 찌릿 찌릿\n",
    "난 너를 원해 난 너를 원해\n",
    "왜 반응이 없니\n",
    "만날 때 마다 마음을 담아\n",
    "찌릿 찌릿 찌릿 찌릿\n",
    "기다리잖아 다 보이잖아\n",
    "왜 알지 못하니\n",
    "찌릿 찌릿 찌릿 찌릿\n",
    "왜 반응이 없니\n",
    "찌릿 찌릿 찌릿 찌릿\n",
    "왜 알지 못하니\n",
    "Sign을 보내 signal 보내\n",
    "근데 전혀 안 통해\n",
    "눈빛을 보내 눈치를 주네\n",
    "근데 못 알아듣네\n",
    "답답해서 미치겠다 정말\n",
    "왜 그런지 모르겠다 정말\n",
    "다시 한 번 힘을 내서\n",
    "Sign을 보내 signal 보내'''"
   ]
  },
  {
   "cell_type": "code",
   "execution_count": 133,
   "metadata": {
    "collapsed": true
   },
   "outputs": [],
   "source": [
    "def check_line(line, keyword) :\n",
    "    cnt = 0\n",
    "    words = line.split()\n",
    "    for word in words :\n",
    "        if keyword == word :\n",
    "            cnt += 1\n",
    "    return cnt"
   ]
  },
  {
   "cell_type": "code",
   "execution_count": 134,
   "metadata": {
    "collapsed": true
   },
   "outputs": [],
   "source": [
    "def count_keyword(doc, keyword) :\n",
    "    cnt = 0\n",
    "    for line in doc : \n",
    "        #print(\"D:\",line)\n",
    "        l_cnt = check_line(line,keyword)\n",
    "        cnt = cnt + l_cnt\n",
    "        #print(cnt)\n",
    "    return cnt"
   ]
  },
  {
   "cell_type": "code",
   "execution_count": 152,
   "metadata": {
    "collapsed": true
   },
   "outputs": [],
   "source": [
    "def load_data_from_file(fn) :\n",
    "    f = open(fn)\n",
    "    doc = f.readlines()\n",
    "    f.close()\n",
    "    return doc"
   ]
  },
  {
   "cell_type": "code",
   "execution_count": 154,
   "metadata": {},
   "outputs": [
    {
     "name": "stdout",
     "output_type": "stream",
     "text": [
      "13\n"
     ]
    }
   ],
   "source": [
    "cnt = 0\n",
    "keyword = 'signal'\n",
    "fn = 'signal.txt'\n",
    "doc = load_data_from_file(fn)\n",
    "cnt = count_keyword(doc, keyword)\n",
    "print(cnt)"
   ]
  }
 ],
 "metadata": {
  "kernelspec": {
   "display_name": "Python 3",
   "language": "python",
   "name": "python3"
  },
  "language_info": {
   "codemirror_mode": {
    "name": "ipython",
    "version": 3
   },
   "file_extension": ".py",
   "mimetype": "text/x-python",
   "name": "python",
   "nbconvert_exporter": "python",
   "pygments_lexer": "ipython3",
   "version": "3.6.2"
  }
 },
 "nbformat": 4,
 "nbformat_minor": 2
}
