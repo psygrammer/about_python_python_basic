{
 "cells": [
  {
   "cell_type": "markdown",
   "metadata": {
    "collapsed": true
   },
   "source": [
    "# 문제 1) 1부터 100까지 중에 짝수만 출력하기"
   ]
  },
  {
   "cell_type": "markdown",
   "metadata": {
    "collapsed": true
   },
   "source": [
    "# 문제 2) 사용자 입력을 무한히 받다가 q를 입력하면 종료하기"
   ]
  },
  {
   "cell_type": "markdown",
   "metadata": {},
   "source": [
    "# 보너스 ㅡ 문제 3) 트와이스의 '시그널' 가사를 웹에서 가져와서, '시그널'이란 단어가 몇번 나오는지 알아내기"
   ]
  },
  {
   "cell_type": "code",
   "execution_count": 73,
   "metadata": {
    "collapsed": true
   },
   "outputs": [],
   "source": [
    "raw_src = '''Trying to let you know\n",
    "Sign을 보내 signal 보내\n",
    "I must let you know\n",
    "Sign을 보내 signal 보내\n",
    "Sign을 보내 signal 보내\n",
    "Sign을 보내 signal 보내\n",
    "Sign을 보내 signal 보내\n",
    "I must let you know\n",
    "Sign을 보내 signal 보내\n",
    "근데 전혀 안 통해\n",
    "눈빛을 보내 눈치를 주네\n",
    "근데 못 알아듣네\n",
    "답답해서 미치겠다 정말\n",
    "왜 그런지 모르겠다 정말\n",
    "다시 한 번 힘을 내서\n",
    "Sign을 보내 signal 보내\n",
    "눈짓도 손짓도 어떤 표정도\n",
    "소용이 없네 하나도 안 통해\n",
    "눈치도 코치도 전혀 없나 봐\n",
    "더 이상 어떻게 내 맘을 표현해\n",
    "언제부턴가 난 네가 좋아\n",
    "지기 시작했어 바보야\n",
    "왜 이렇게도 내 맘을 몰라\n",
    "언제까지 이렇게 둔하게\n",
    "나를 친구로만 대할래\n",
    "내가 원하는 건 그게 아닌데\n",
    "Signal 보내 signal 보내\n",
    "찌릿 찌릿 찌릿 찌릿\n",
    "난 너를 원해 난 너를 원해\n",
    "왜 반응이 없니\n",
    "만날 때 마다 마음을 담아\n",
    "찌릿 찌릿 찌릿 찌릿\n",
    "기다리잖아 다 보이잖아\n",
    "왜 알지 못하니\n",
    "Trying to let you know\n",
    "Sign을 보내 signal 보내\n",
    "I must let you know\n",
    "Sign을 보내 signal 보내\n",
    "널 보며 웃으면 알아채야지\n",
    "오늘만 몇 번째 널 보며 웃는데\n",
    "자꾸 말을 걸면 좀 느껴야지\n",
    "계속 네 곁에 머물러있는데\n",
    "언제부턴가 난 네가 좋아\n",
    "지기 시작했어 바보야\n",
    "왜 이렇게도 내 맘을 몰라\n",
    "언제까지 이렇게 둔하게\n",
    "나를 친구로만 대할래\n",
    "내가 원하는 건 그게 아닌데\n",
    "Signal 보내 signal 보내\n",
    "찌릿 찌릿 찌릿 찌릿\n",
    "난 너를 원해 난 너를 원해\n",
    "왜 반응이 없니\n",
    "만날 때 마다 마음을 담아\n",
    "찌릿 찌릿 찌릿 찌릿\n",
    "기다리잖아 다 보이잖아\n",
    "왜 알지 못하니\n",
    "찌릿 찌릿 찌릿 찌릿\n",
    "왜 반응이 없니\n",
    "찌릿 찌릿 찌릿 찌릿\n",
    "왜 알지 못하니\n",
    "Sign을 보내 signal 보내\n",
    "근데 전혀 안 통해\n",
    "눈빛을 보내 눈치를 주네\n",
    "근데 못 알아듣네\n",
    "답답해서 미치겠다 정말\n",
    "왜 그런지 모르겠다 정말\n",
    "다시 한 번 힘을 내서\n",
    "Sign을 보내 signal 보내'''"
   ]
  },
  {
   "cell_type": "code",
   "execution_count": 154,
   "metadata": {},
   "outputs": [
    {
     "name": "stdout",
     "output_type": "stream",
     "text": [
      "13\n"
     ]
    }
   ],
   "source": [
    "cnt = 0\n",
    "keyword = 'signal'\n",
    "fn = 'signal.txt'\n",
    "doc = load_data_from_file(fn)\n",
    "cnt = count_keyword(doc, keyword)\n",
    "print(cnt)"
   ]
  }
 ],
 "metadata": {
  "kernelspec": {
   "display_name": "Python 3",
   "language": "python",
   "name": "python3"
  },
  "language_info": {
   "codemirror_mode": {
    "name": "ipython",
    "version": 3
   },
   "file_extension": ".py",
   "mimetype": "text/x-python",
   "name": "python",
   "nbconvert_exporter": "python",
   "pygments_lexer": "ipython3",
   "version": "3.6.2"
  }
 },
 "nbformat": 4,
 "nbformat_minor": 2
}
